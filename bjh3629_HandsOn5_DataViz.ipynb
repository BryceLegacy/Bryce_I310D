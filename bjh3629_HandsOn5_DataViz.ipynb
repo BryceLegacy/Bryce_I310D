{
 "cells": [
  {
   "cell_type": "markdown",
   "id": "a8d4bd15",
   "metadata": {},
   "source": [
    "# Hands-on 5: Data-Engineering II - Data Visualization\n",
    "\n",
    "*Note: This lab session is graded. Complete all the exercises, run your code and upload the ipynb file under assignment **Hands-on: Data Visualization**\n",
    "\n",
    "**Deadline is Today (02/14), 11:59 PM**"
   ]
  },
  {
   "cell_type": "markdown",
   "id": "6ee1c46e",
   "metadata": {},
   "source": [
    "## Data Collection for Weather Analysis "
   ]
  },
  {
   "cell_type": "markdown",
   "id": "978077f5",
   "metadata": {},
   "source": [
    "Last week, we scraped the EstesPark website and collected data for the month of January 2023. \n",
    "https://www.estesparkweather.net/archive_reports.php?date=202301. \n",
    "\n",
    "Today, we will try to perform data analysis where we extract descriptive statistics and apply data visualization techniques to gain some insights\n",
    "\n",
    "We would need the following Python libraries : \n",
    "\n",
    "**Pandas:** This is the library for dealing with Tablular data. Also allows some statistical opetations. \n",
    "\n",
    "**NumPy/Scipy:** Library for statistical analysis\n",
    "\n",
    "**Matplotlib:** For plotting data "
   ]
  },
  {
   "cell_type": "markdown",
   "id": "dd06e27b",
   "metadata": {},
   "source": [
    "## 0. Install and Import Libraries"
   ]
  },
  {
   "cell_type": "code",
   "execution_count": 1,
   "id": "e36bb7d4",
   "metadata": {},
   "outputs": [
    {
     "name": "stdout",
     "output_type": "stream",
     "text": [
      "Imported all libraries successfully...\n"
     ]
    }
   ],
   "source": [
    "# Check if beautifulsoup and pandas are already installed\n",
    "# If not, install it and then import\n",
    "try:\n",
    "    import pandas as pd\n",
    "    import numpy as np\n",
    "    import scipy\n",
    "    from matplotlib import pyplot as plt\n",
    "    print (\"Imported all libraries successfully...\")\n",
    "except:\n",
    "    import sys\n",
    "    !conda install --yes --prefix {sys.prefix} numpy\n",
    "    !conda install --yes --prefix {sys.prefix} pandas\n",
    "    !conda install --yes --prefix {sys.prefix} matplotlib\n",
    "    !conda install --yes --prefix {sys.prefix} scipy\n",
    "    print (\"Some libraries not found, installing...\")"
   ]
  },
  {
   "cell_type": "markdown",
   "id": "713305e0",
   "metadata": {},
   "source": [
    "## 1. Load the EstesPark data we collected"
   ]
  },
  {
   "cell_type": "markdown",
   "id": "e4c4c864",
   "metadata": {},
   "source": [
    "If you did the last hands-on, you should have the data on your local folder by the name **EstesPark_Weather_January_2023.csv**. If you do not have it, you could download it from **Canvas->Files->Week6->EstesPark_Weather_January_2023.csv**\n",
    "\n",
    "Try to open the file in Excel / Numbers / Open office (just doube click on it to open with your default app for numbers)."
   ]
  },
  {
   "cell_type": "code",
   "execution_count": 2,
   "id": "1e080d0c",
   "metadata": {
    "scrolled": true
   },
   "outputs": [
    {
     "name": "stdout",
     "output_type": "stream",
     "text": [
      "<class 'pandas.core.frame.DataFrame'>\n",
      "RangeIndex: 32 entries, 0 to 31\n",
      "Data columns (total 21 columns):\n",
      " #   Column                   Non-Null Count  Dtype  \n",
      "---  ------                   --------------  -----  \n",
      " 0   Unnamed: 0               32 non-null     int64  \n",
      " 1   Average and Extremes     32 non-null     object \n",
      " 2   Average temperature      32 non-null     float64\n",
      " 3   Average humidity         32 non-null     float64\n",
      " 4   Average dewpoint         32 non-null     float64\n",
      " 5   Average barometer        32 non-null     float64\n",
      " 6   Average windspeed        32 non-null     float64\n",
      " 7   Average gustspeed        32 non-null     float64\n",
      " 8   Average direction        32 non-null     object \n",
      " 9   Rainfall for month       32 non-null     object \n",
      " 10  Rainfall for year        32 non-null     object \n",
      " 11  Maximum rain per minute  32 non-null     object \n",
      " 12  Maximum temperature      32 non-null     object \n",
      " 13  Minimum temperature      32 non-null     object \n",
      " 14  Maximum humidity         32 non-null     object \n",
      " 15  Minimum humidity         32 non-null     object \n",
      " 16  Maximum pressure         32 non-null     object \n",
      " 17  Minimum pressure         32 non-null     object \n",
      " 18  Maximum windspeed        32 non-null     object \n",
      " 19  Maximum gust speed       32 non-null     object \n",
      " 20  Maximum heat index       32 non-null     object \n",
      "dtypes: float64(6), int64(1), object(14)\n",
      "memory usage: 5.4+ KB\n"
     ]
    }
   ],
   "source": [
    "# Before starting, let's tell jupyter not to ignore any output that is supposed to be printed\n",
    "from IPython.core.interactiveshell import InteractiveShell\n",
    "InteractiveShell.ast_node_interactivity = \"all\"\n",
    "\n",
    "estes_park_df = pd.read_csv(\"EstesPark_Weather_January_2023.csv\")\n",
    "\n",
    "estes_park_df.info()"
   ]
  },
  {
   "cell_type": "markdown",
   "id": "caadd567",
   "metadata": {},
   "source": [
    "Print a few rows."
   ]
  },
  {
   "cell_type": "code",
   "execution_count": 3,
   "id": "a1bb5a0b",
   "metadata": {
    "scrolled": true
   },
   "outputs": [
    {
     "data": {
      "text/html": [
       "<div>\n",
       "<style scoped>\n",
       "    .dataframe tbody tr th:only-of-type {\n",
       "        vertical-align: middle;\n",
       "    }\n",
       "\n",
       "    .dataframe tbody tr th {\n",
       "        vertical-align: top;\n",
       "    }\n",
       "\n",
       "    .dataframe thead th {\n",
       "        text-align: right;\n",
       "    }\n",
       "</style>\n",
       "<table border=\"1\" class=\"dataframe\">\n",
       "  <thead>\n",
       "    <tr style=\"text-align: right;\">\n",
       "      <th></th>\n",
       "      <th>Unnamed: 0</th>\n",
       "      <th>Average and Extremes</th>\n",
       "      <th>Average temperature</th>\n",
       "      <th>Average humidity</th>\n",
       "      <th>Average dewpoint</th>\n",
       "      <th>Average barometer</th>\n",
       "      <th>Average windspeed</th>\n",
       "      <th>Average gustspeed</th>\n",
       "      <th>Average direction</th>\n",
       "      <th>Rainfall for month</th>\n",
       "      <th>...</th>\n",
       "      <th>Maximum rain per minute</th>\n",
       "      <th>Maximum temperature</th>\n",
       "      <th>Minimum temperature</th>\n",
       "      <th>Maximum humidity</th>\n",
       "      <th>Minimum humidity</th>\n",
       "      <th>Maximum pressure</th>\n",
       "      <th>Minimum pressure</th>\n",
       "      <th>Maximum windspeed</th>\n",
       "      <th>Maximum gust speed</th>\n",
       "      <th>Maximum heat index</th>\n",
       "    </tr>\n",
       "  </thead>\n",
       "  <tbody>\n",
       "    <tr>\n",
       "      <th>0</th>\n",
       "      <td>0</td>\n",
       "      <td>Jan 1</td>\n",
       "      <td>28.5</td>\n",
       "      <td>83.0</td>\n",
       "      <td>23.9</td>\n",
       "      <td>29.7</td>\n",
       "      <td>3.0</td>\n",
       "      <td>5.0</td>\n",
       "      <td>76° (ENE)</td>\n",
       "      <td>0.09 in.</td>\n",
       "      <td>...</td>\n",
       "      <td>0.01 in. on day 01 at time 12:49</td>\n",
       "      <td>36.1°F on day 01 at time 12:51</td>\n",
       "      <td>23.5°F on day 01 at time 22:31</td>\n",
       "      <td>94% on day 01 at time 00:00</td>\n",
       "      <td>64% on day 01 at time 12:41</td>\n",
       "      <td>29.747 in. on day 01 at time 20:01</td>\n",
       "      <td>29.612 in. on day 01 at time 01:09</td>\n",
       "      <td>12.7 mph on day 01 at time 14:58</td>\n",
       "      <td>16.1 mph  from 029 °(NNE) on day 01 at time 1...</td>\n",
       "      <td>36.1°F on day 01 at time 12:51</td>\n",
       "    </tr>\n",
       "    <tr>\n",
       "      <th>1</th>\n",
       "      <td>1</td>\n",
       "      <td>Jan 2</td>\n",
       "      <td>20.4</td>\n",
       "      <td>92.0</td>\n",
       "      <td>18.5</td>\n",
       "      <td>29.7</td>\n",
       "      <td>2.1</td>\n",
       "      <td>3.4</td>\n",
       "      <td>68° (ENE)</td>\n",
       "      <td>0.09 in.</td>\n",
       "      <td>...</td>\n",
       "      <td>0.00 in. on day 02 at time 23:59</td>\n",
       "      <td>23.8°F on day 02 at time 01:35</td>\n",
       "      <td>17.3°F on day 02 at time 23:56</td>\n",
       "      <td>94% on day 02 at time 01:04</td>\n",
       "      <td>90% on day 02 at time 23:59</td>\n",
       "      <td>29.806 in. on day 02 at time 23:57</td>\n",
       "      <td>29.654 in. on day 02 at time 08:24</td>\n",
       "      <td>5.8 mph on day 02 at time 23:31</td>\n",
       "      <td>10.4 mph  from 081 °( E ) on day 02 at time 2...</td>\n",
       "      <td>23.8°F on day 02 at time 01:35</td>\n",
       "    </tr>\n",
       "    <tr>\n",
       "      <th>2</th>\n",
       "      <td>2</td>\n",
       "      <td>Jan 3</td>\n",
       "      <td>21.8</td>\n",
       "      <td>68.0</td>\n",
       "      <td>12.1</td>\n",
       "      <td>29.8</td>\n",
       "      <td>6.1</td>\n",
       "      <td>9.2</td>\n",
       "      <td>267° ( W )</td>\n",
       "      <td>0.15 in.</td>\n",
       "      <td>...</td>\n",
       "      <td>0.01 in. on day 03 at time 11:51</td>\n",
       "      <td>31.2°F on day 03 at time 11:44</td>\n",
       "      <td>11.3°F on day 03 at time 07:53</td>\n",
       "      <td>91% on day 03 at time 08:08</td>\n",
       "      <td>48% on day 03 at time 23:57</td>\n",
       "      <td>29.871 in. on day 03 at time 23:49</td>\n",
       "      <td>29.772 in. on day 03 at time 11:15</td>\n",
       "      <td>18.4 mph on day 03 at time 20:23</td>\n",
       "      <td>28.8 mph  from 267 °( W ) on day 03 at time 2...</td>\n",
       "      <td>31.2°F on day 03 at time 11:44</td>\n",
       "    </tr>\n",
       "    <tr>\n",
       "      <th>3</th>\n",
       "      <td>3</td>\n",
       "      <td>Jan 4</td>\n",
       "      <td>23.1</td>\n",
       "      <td>46.0</td>\n",
       "      <td>5.4</td>\n",
       "      <td>30.0</td>\n",
       "      <td>16.0</td>\n",
       "      <td>23.5</td>\n",
       "      <td>258° (WSW)</td>\n",
       "      <td>0.15 in.</td>\n",
       "      <td>...</td>\n",
       "      <td>0.00 in. on day 04 at time 23:59</td>\n",
       "      <td>27.2°F on day 04 at time 14:06</td>\n",
       "      <td>19.8°F on day 04 at time 07:34</td>\n",
       "      <td>53% on day 04 at time 11:47</td>\n",
       "      <td>34% on day 04 at time 14:18</td>\n",
       "      <td>30.175 in. on day 04 at time 23:14</td>\n",
       "      <td>29.831 in. on day 04 at time 06:30</td>\n",
       "      <td>28.8 mph on day 04 at time 11:48</td>\n",
       "      <td>41.4 mph  from 172 °( S ) on day 04 at time 1...</td>\n",
       "      <td>27.2°F on day 04 at time 14:06</td>\n",
       "    </tr>\n",
       "    <tr>\n",
       "      <th>4</th>\n",
       "      <td>4</td>\n",
       "      <td>Jan 5</td>\n",
       "      <td>33.3</td>\n",
       "      <td>39.0</td>\n",
       "      <td>10.7</td>\n",
       "      <td>30.0</td>\n",
       "      <td>10.7</td>\n",
       "      <td>15.0</td>\n",
       "      <td>248° (WSW)</td>\n",
       "      <td>0.15 in.</td>\n",
       "      <td>...</td>\n",
       "      <td>0.00 in. on day 05 at time 23:59</td>\n",
       "      <td>41.4°F on day 05 at time 13:42</td>\n",
       "      <td>19.5°F on day 05 at time 05:55</td>\n",
       "      <td>57% on day 05 at time 09:29</td>\n",
       "      <td>27% on day 05 at time 23:00</td>\n",
       "      <td>30.163 in. on day 05 at time 00:03</td>\n",
       "      <td>29.830 in. on day 05 at time 22:43</td>\n",
       "      <td>21.9 mph on day 05 at time 19:28</td>\n",
       "      <td>31.1 mph  from 267 °( W ) on day 05 at time 2...</td>\n",
       "      <td>41.4°F on day 05 at time 13:42</td>\n",
       "    </tr>\n",
       "  </tbody>\n",
       "</table>\n",
       "<p>5 rows × 21 columns</p>\n",
       "</div>"
      ],
      "text/plain": [
       "   Unnamed: 0 Average and Extremes  Average temperature  Average humidity  \\\n",
       "0           0               Jan 1                  28.5              83.0   \n",
       "1           1               Jan 2                  20.4              92.0   \n",
       "2           2               Jan 3                  21.8              68.0   \n",
       "3           3               Jan 4                  23.1              46.0   \n",
       "4           4               Jan 5                  33.3              39.0   \n",
       "\n",
       "   Average dewpoint  Average barometer  Average windspeed  Average gustspeed  \\\n",
       "0              23.9               29.7                3.0                5.0   \n",
       "1              18.5               29.7                2.1                3.4   \n",
       "2              12.1               29.8                6.1                9.2   \n",
       "3               5.4               30.0               16.0               23.5   \n",
       "4              10.7               30.0               10.7               15.0   \n",
       "\n",
       "  Average direction Rainfall for month  ...  \\\n",
       "0         76° (ENE)           0.09 in.  ...   \n",
       "1         68° (ENE)           0.09 in.  ...   \n",
       "2        267° ( W )           0.15 in.  ...   \n",
       "3        258° (WSW)           0.15 in.  ...   \n",
       "4        248° (WSW)           0.15 in.  ...   \n",
       "\n",
       "             Maximum rain per minute              Maximum temperature  \\\n",
       "0   0.01 in. on day 01 at time 12:49   36.1°F on day 01 at time 12:51   \n",
       "1   0.00 in. on day 02 at time 23:59   23.8°F on day 02 at time 01:35   \n",
       "2   0.01 in. on day 03 at time 11:51   31.2°F on day 03 at time 11:44   \n",
       "3   0.00 in. on day 04 at time 23:59   27.2°F on day 04 at time 14:06   \n",
       "4   0.00 in. on day 05 at time 23:59   41.4°F on day 05 at time 13:42   \n",
       "\n",
       "               Minimum temperature              Maximum humidity  \\\n",
       "0   23.5°F on day 01 at time 22:31   94% on day 01 at time 00:00   \n",
       "1   17.3°F on day 02 at time 23:56   94% on day 02 at time 01:04   \n",
       "2   11.3°F on day 03 at time 07:53   91% on day 03 at time 08:08   \n",
       "3   19.8°F on day 04 at time 07:34   53% on day 04 at time 11:47   \n",
       "4   19.5°F on day 05 at time 05:55   57% on day 05 at time 09:29   \n",
       "\n",
       "               Minimum humidity                     Maximum pressure  \\\n",
       "0   64% on day 01 at time 12:41   29.747 in. on day 01 at time 20:01   \n",
       "1   90% on day 02 at time 23:59   29.806 in. on day 02 at time 23:57   \n",
       "2   48% on day 03 at time 23:57   29.871 in. on day 03 at time 23:49   \n",
       "3   34% on day 04 at time 14:18   30.175 in. on day 04 at time 23:14   \n",
       "4   27% on day 05 at time 23:00   30.163 in. on day 05 at time 00:03   \n",
       "\n",
       "                      Minimum pressure                  Maximum windspeed  \\\n",
       "0   29.612 in. on day 01 at time 01:09   12.7 mph on day 01 at time 14:58   \n",
       "1   29.654 in. on day 02 at time 08:24    5.8 mph on day 02 at time 23:31   \n",
       "2   29.772 in. on day 03 at time 11:15   18.4 mph on day 03 at time 20:23   \n",
       "3   29.831 in. on day 04 at time 06:30   28.8 mph on day 04 at time 11:48   \n",
       "4   29.830 in. on day 05 at time 22:43   21.9 mph on day 05 at time 19:28   \n",
       "\n",
       "                                  Maximum gust speed  \\\n",
       "0   16.1 mph  from 029 °(NNE) on day 01 at time 1...   \n",
       "1   10.4 mph  from 081 °( E ) on day 02 at time 2...   \n",
       "2   28.8 mph  from 267 °( W ) on day 03 at time 2...   \n",
       "3   41.4 mph  from 172 °( S ) on day 04 at time 1...   \n",
       "4   31.1 mph  from 267 °( W ) on day 05 at time 2...   \n",
       "\n",
       "                Maximum heat index  \n",
       "0   36.1°F on day 01 at time 12:51  \n",
       "1   23.8°F on day 02 at time 01:35  \n",
       "2   31.2°F on day 03 at time 11:44  \n",
       "3   27.2°F on day 04 at time 14:06  \n",
       "4   41.4°F on day 05 at time 13:42  \n",
       "\n",
       "[5 rows x 21 columns]"
      ]
     },
     "execution_count": 3,
     "metadata": {},
     "output_type": "execute_result"
    }
   ],
   "source": [
    "estes_park_df.head()"
   ]
  },
  {
   "cell_type": "markdown",
   "id": "d76f4167",
   "metadata": {},
   "source": [
    "## 1.1. What kind of variables do we have?\n",
    "\n",
    "Check the output from the info method above. There are two kinds of columns (variables)\n",
    "\n",
    "- Numerical (int, float): Average temperature, Average humidity, Average dewpoint, ...\n",
    "- Categorical (strings): Date"
   ]
  },
  {
   "cell_type": "markdown",
   "id": "ad0b257f",
   "metadata": {},
   "source": [
    "## 2. Print column names and access column data?\n",
    "Say you want the average_temperature column as a list type object "
   ]
  },
  {
   "cell_type": "code",
   "execution_count": 4,
   "id": "7cc1cc45",
   "metadata": {},
   "outputs": [
    {
     "name": "stdout",
     "output_type": "stream",
     "text": [
      "Index(['Unnamed: 0', 'Average and Extremes', 'Average temperature',\n",
      "       'Average humidity', 'Average dewpoint', 'Average barometer',\n",
      "       'Average windspeed', 'Average gustspeed', 'Average direction',\n",
      "       'Rainfall for month', 'Rainfall for year', 'Maximum rain per minute',\n",
      "       'Maximum temperature', 'Minimum temperature', 'Maximum humidity',\n",
      "       'Minimum humidity', 'Maximum pressure', 'Minimum pressure',\n",
      "       'Maximum windspeed', 'Maximum gust speed', 'Maximum heat index'],\n",
      "      dtype='object')\n",
      "0     28.5\n",
      "1     20.4\n",
      "2     21.8\n",
      "3     23.1\n",
      "4     33.3\n",
      "5     34.2\n",
      "6     32.3\n",
      "7     35.4\n",
      "8     36.0\n",
      "9     38.1\n",
      "10    30.3\n",
      "11    32.5\n",
      "12    42.9\n",
      "13    42.9\n",
      "14    31.1\n",
      "15    30.7\n",
      "16    22.6\n",
      "17    20.7\n",
      "18    22.9\n",
      "19    14.4\n",
      "20    13.7\n",
      "21    22.1\n",
      "22    20.2\n",
      "23    19.9\n",
      "24    17.6\n",
      "25    20.8\n",
      "26    26.8\n",
      "27    21.0\n",
      "28    -0.8\n",
      "29    -0.1\n",
      "30    16.6\n",
      "31    24.9\n",
      "Name: Average temperature, dtype: float64\n"
     ]
    }
   ],
   "source": [
    "column_names = estes_park_df.columns\n",
    "print (column_names)\n",
    "\n",
    "average_temperature = estes_park_df[\"Average temperature\"]\n",
    "print (average_temperature)\n"
   ]
  },
  {
   "cell_type": "markdown",
   "id": "9f9f03da",
   "metadata": {},
   "source": [
    "## 3. Descriptive Stats using df.describe() method"
   ]
  },
  {
   "cell_type": "code",
   "execution_count": 5,
   "id": "24b58b37",
   "metadata": {
    "scrolled": true
   },
   "outputs": [
    {
     "data": {
      "text/plain": [
       "count    32.000000\n",
       "mean     24.900000\n",
       "std      10.212927\n",
       "min      -0.800000\n",
       "25%      20.350000\n",
       "50%      23.000000\n",
       "75%      32.350000\n",
       "max      42.900000\n",
       "Name: Average temperature, dtype: float64"
      ]
     },
     "execution_count": 5,
     "metadata": {},
     "output_type": "execute_result"
    }
   ],
   "source": [
    "average_temperature.describe()"
   ]
  },
  {
   "cell_type": "markdown",
   "id": "aaddbf4c",
   "metadata": {},
   "source": [
    "**Insights:**\n",
    "The range of the temperature is: [-0.8, 42.9]. Also, the mean temperature is below freezing point (~25F) on an average with a standard deviation of 10.21F. Estes Park was  generally cold during the month of January 2023. "
   ]
  },
  {
   "cell_type": "markdown",
   "id": "61c31376",
   "metadata": {},
   "source": [
    "### 3.1. Frequency plot using df.hist() method\n",
    "\n",
    "Pandas DataFrames already provide a plotting function that can bin our data into frequency buckets and then plot frequencies. Frequency plots are called **histograms**."
   ]
  },
  {
   "cell_type": "code",
   "execution_count": 6,
   "id": "160e287c",
   "metadata": {
    "scrolled": true
   },
   "outputs": [
    {
     "data": {
      "text/plain": [
       "<AxesSubplot:>"
      ]
     },
     "execution_count": 6,
     "metadata": {},
     "output_type": "execute_result"
    },
    {
     "data": {
      "image/png": "[encoded data removed]",
      "text/plain": [
       "<Figure size 640x480 with 1 Axes>"
      ]
     },
     "metadata": {},
     "output_type": "display_data"
    }
   ],
   "source": [
    "average_temperature.hist(bins=10)"
   ]
  },
  {
   "cell_type": "markdown",
   "id": "cc43de10",
   "metadata": {},
   "source": [
    "#### 3.1.1 What does the histogram represent?\n",
    "\n",
    "On x-axis, we have the values of temperature binned into 10 bins. Based on the range i.e., [-0.8, 42.9] and the bin size of 10, the bins are:\n",
    "\n",
    "- bin1: [-0.8,3.57]\n",
    "- bin2: [3.58,7.94]\n",
    "- ...\n",
    "- bin10: [38.53,42.9]\n",
    "\n",
    "The y-axis represents number of times temperature values fall under a certain bin (i.e., frequency). E.g., *bin1* has 2 temperature values. *bin9* has 4 values. \n",
    "\n",
    "Let's try and keep the binsize same as the number of rows"
   ]
  },
  {
   "cell_type": "code",
   "execution_count": 7,
   "id": "dbf79036",
   "metadata": {
    "scrolled": true
   },
   "outputs": [
    {
     "data": {
      "text/plain": [
       "<AxesSubplot:>"
      ]
     },
     "execution_count": 7,
     "metadata": {},
     "output_type": "execute_result"
    },
    {
     "data": {
      "image/png": "[encoded data removed]",
      "text/plain": [
       "<Figure size 640x480 with 1 Axes>"
      ]
     },
     "metadata": {},
     "output_type": "display_data"
    }
   ],
   "source": [
    "average_temperature.hist(bins=len(average_temperature))"
   ]
  },
  {
   "cell_type": "markdown",
   "id": "96606076",
   "metadata": {},
   "source": [
    "Try some other values?"
   ]
  },
  {
   "cell_type": "code",
   "execution_count": 8,
   "id": "5e51370d",
   "metadata": {
    "scrolled": true
   },
   "outputs": [
    {
     "data": {
      "text/plain": [
       "<AxesSubplot:>"
      ]
     },
     "execution_count": 8,
     "metadata": {},
     "output_type": "execute_result"
    },
    {
     "data": {
      "image/png": "[encoded data removed]",
      "text/plain": [
       "<Figure size 640x480 with 1 Axes>"
      ]
     },
     "metadata": {},
     "output_type": "display_data"
    }
   ],
   "source": [
    "average_temperature.hist(bins=5)"
   ]
  },
  {
   "cell_type": "markdown",
   "id": "97ccb6e1",
   "metadata": {},
   "source": [
    "Looks somewhat like a bell curve? Let's revisit the empirical rules we came across in the lecture. "
   ]
  },
  {
   "cell_type": "markdown",
   "id": "ad08fbbd",
   "metadata": {},
   "source": [
    "If you plot your data based on frequency and it looks \"normal\" \n",
    "- about 68% of data within 1 standard dev. of mean\n",
    "- about 95% of data within 2 standard dev. of mean\n",
    "- all or nearly all data within 3 standard dev. of mean\n",
    "\n",
    "**Insights:** In our case `mean + 2*stdev ~ 44F` which represents the fact that ~68% of the time we will have temperature less than 44F. So we can confidently say that on any day in the month of January 2023, if we planned a visit to Estes Park, we would have had to do a lot of winter prep. "
   ]
  },
  {
   "cell_type": "markdown",
   "id": "457626f9",
   "metadata": {},
   "source": [
    "## E1. Exercise: Describe and Plot Histogram for \"Average humidity\""
   ]
  },
  {
   "cell_type": "markdown",
   "id": "280e56dd",
   "metadata": {},
   "source": [
    "What Can you try different bin sizes for the histogram? What insights do you get?"
   ]
  },
  {
   "cell_type": "markdown",
   "id": "8c969535",
   "metadata": {},
   "source": [
    "## 3.2. Bivariate Analysis\n",
    "We are going to study the association between two columns (i.e., two variables). For this we compute the Pearson correlction coefficient between two variables. \n",
    "\n",
    "Let's say our two variables of choice are (a) Average windspeed and (b) Average gustspeed."
   ]
  },
  {
   "cell_type": "code",
   "execution_count": 9,
   "id": "c2b10b7e",
   "metadata": {
    "scrolled": true
   },
   "outputs": [
    {
     "name": "stdout",
     "output_type": "stream",
     "text": [
      "0.9986067307768814\n"
     ]
    }
   ],
   "source": [
    "from scipy.stats import pearsonr\n",
    "\n",
    "p = pearsonr(estes_park_df[\"Average windspeed\"],estes_park_df[\"Average gustspeed\"])\n",
    "print (p[0])"
   ]
  },
  {
   "cell_type": "markdown",
   "id": "07cb2426",
   "metadata": {},
   "source": [
    "**Insight:** The first value above represents the corelation coefficient, whcih is ~**0.998**. This means windspeed is strongly correlated with gust speed, which is expected. "
   ]
  },
  {
   "cell_type": "markdown",
   "id": "4b99febf",
   "metadata": {},
   "source": [
    "Now let's try to extract a correlation matrix for all the **numerical columns**"
   ]
  },
  {
   "cell_type": "markdown",
   "id": "54fb3c4e",
   "metadata": {},
   "source": [
    "**Insights:**\n",
    "- Temperature and humidity are strongly \"negatively\" correlated at -0.578 which indicates that as the temperature (especially in the cold weather in January 2023) rises, it will probably result in a less humid atmosphere.\n",
    "- Temperature and pressure are strongly \"negatively\" correlated at -0.482231 which indicates that a rise in temperature will reduce atmospheric pressure, which is expected. \n",
    "- Humidity and dew points are very weakly correlated at 0.101796 and it appears that there is no relationship between them. (Is this expected?)\n",
    "\n",
    "Any other insights?"
   ]
  },
  {
   "cell_type": "markdown",
   "id": "6c12ee8d",
   "metadata": {},
   "source": [
    "## 4. Data visualization"
   ]
  },
  {
   "cell_type": "markdown",
   "id": "e2aaae77",
   "metadata": {},
   "source": [
    "## 4.1. Bar Graphs\n",
    "A bar chart or bar graph is a chart or graph that presents categorical data with rectangular bars with heights or lengths proportional to the values that they represent. \n",
    "\n",
    "In the above data, the only categorical data is \"Date\" (we are of-course ignoring the  unprocessed columns from Average direction onwards).\n",
    "\n",
    "Say we want to plot Average Temperature for **five random dates**, without maintaining sequentiality. We can go for a bar graph.\n"
   ]
  },
  {
   "cell_type": "code",
   "execution_count": 10,
   "id": "6dcff0e0",
   "metadata": {
    "scrolled": true
   },
   "outputs": [
    {
     "data": {
      "text/plain": [
       "<BarContainer object of 5 artists>"
      ]
     },
     "execution_count": 10,
     "metadata": {},
     "output_type": "execute_result"
    },
    {
     "data": {
      "text/plain": [
       "Text(0.5, 0, 'Date')"
      ]
     },
     "execution_count": 10,
     "metadata": {},
     "output_type": "execute_result"
    },
    {
     "data": {
      "text/plain": [
       "Text(0, 0.5, \"Average per-day temperature in 'F\")"
      ]
     },
     "execution_count": 10,
     "metadata": {},
     "output_type": "execute_result"
    },
    {
     "data": {
      "text/plain": [
       "Text(0.5, 1.0, 'Temperature for 5 random days January 2023')"
      ]
     },
     "execution_count": 10,
     "metadata": {},
     "output_type": "execute_result"
    },
    {
     "data": {
      "image/png": "[encoded data removed]",
      "text/plain": [
       "<Figure size 640x480 with 1 Axes>"
      ]
     },
     "metadata": {},
     "output_type": "display_data"
    }
   ],
   "source": [
    "five_random_days = [1,4,8,19,25]\n",
    "\n",
    "date_column = estes_park_df[\"Average and Extremes\"]\n",
    "temp_column = estes_park_df[\"Average temperature\"]\n",
    "\n",
    "selected_dates = []\n",
    "selected_temps = []\n",
    "\n",
    "for day_id in five_random_days:\n",
    "    selected_dates.append(date_column[day_id])\n",
    "    selected_temps.append(temp_column[day_id])\n",
    "    \n",
    "\n",
    "# Now plot our bar graph\n",
    "plt.bar(selected_dates, selected_temps, color ='maroon', width = 0.4)\n",
    "\n",
    "# Now add axis labels with units\n",
    "plt.xlabel(\"Date\")\n",
    "plt.ylabel(\"Average per-day temperature in 'F\")\n",
    "\n",
    "# We can add a title too\n",
    "plt.title(\"Temperature for 5 random days January 2023\")\n"
   ]
  },
  {
   "cell_type": "markdown",
   "id": "f8764e22",
   "metadata": {},
   "source": [
    "## 4.2. Line Graphs\n",
    "\n",
    "- Best used when the x-axis represents a sequence (e.g., time) and y-axis is a continuous numerical variable.\n",
    "\n",
    "We can approximate days in January 2023 as a representation of sequentiality (time) and plot temperature-vs-day as a line graph"
   ]
  },
  {
   "cell_type": "code",
   "execution_count": 11,
   "id": "1eca9475",
   "metadata": {},
   "outputs": [
    {
     "data": {
      "text/plain": [
       "[<matplotlib.lines.Line2D at 0x237976810a0>]"
      ]
     },
     "execution_count": 11,
     "metadata": {},
     "output_type": "execute_result"
    },
    {
     "data": {
      "text/plain": [
       "Text(0.5, 0, 'Day number')"
      ]
     },
     "execution_count": 11,
     "metadata": {},
     "output_type": "execute_result"
    },
    {
     "data": {
      "text/plain": [
       "Text(0, 0.5, \"Average per-day temperature in 'F\")"
      ]
     },
     "execution_count": 11,
     "metadata": {},
     "output_type": "execute_result"
    },
    {
     "data": {
      "text/plain": [
       "Text(0.5, 1.0, 'Temperature progression in January 2023')"
      ]
     },
     "execution_count": 11,
     "metadata": {},
     "output_type": "execute_result"
    },
    {
     "data": {
      "image/png": "[encoded data removed]",
      "text/plain": [
       "<Figure size 640x480 with 1 Axes>"
      ]
     },
     "metadata": {},
     "output_type": "display_data"
    }
   ],
   "source": [
    "day_ids = range(len(date_column)) # creates a variable 0,1,2...total_days\n",
    "temp_column = estes_park_df[\"Average temperature\"]\n",
    "\n",
    "plt.plot(day_ids,temp_column, marker='o')\n",
    "\n",
    "plt.xlabel(\"Day number\")\n",
    "plt.ylabel(\"Average per-day temperature in 'F\")\n",
    "\n",
    "# We can add a title too\n",
    "plt.title(\"Temperature progression in January 2023\")"
   ]
  },
  {
   "cell_type": "markdown",
   "id": "f7fe07b1",
   "metadata": {},
   "source": [
    "## 4.3. Scatter Plots\n",
    "\n",
    "- Best for representing relationship between two continuous variables\n",
    "- Can add third continuous variable represented by marker size\n",
    "- Can add categorical information by changing marker color\n",
    "\n",
    "Let's plot windspeed and gust speed together. "
   ]
  },
  {
   "cell_type": "code",
   "execution_count": 12,
   "id": "a9c0d5aa",
   "metadata": {
    "scrolled": false
   },
   "outputs": [
    {
     "data": {
      "text/plain": [
       "<matplotlib.collections.PathCollection at 0x237976a2370>"
      ]
     },
     "execution_count": 12,
     "metadata": {},
     "output_type": "execute_result"
    },
    {
     "data": {
      "text/plain": [
       "Text(0.5, 0, 'Average windspeed (in mph)')"
      ]
     },
     "execution_count": 12,
     "metadata": {},
     "output_type": "execute_result"
    },
    {
     "data": {
      "text/plain": [
       "Text(0, 0.5, 'Average gustspeed (in mph)')"
      ]
     },
     "execution_count": 12,
     "metadata": {},
     "output_type": "execute_result"
    },
    {
     "data": {
      "text/plain": [
       "Text(0.5, 1.0, 'gustspeed-vs-windspeed in January 2023')"
      ]
     },
     "execution_count": 12,
     "metadata": {},
     "output_type": "execute_result"
    },
    {
     "data": {
      "image/png": "[encoded data removed]",
      "text/plain": [
       "<Figure size 640x480 with 1 Axes>"
      ]
     },
     "metadata": {},
     "output_type": "display_data"
    }
   ],
   "source": [
    "windspeed_column = estes_park_df[\"Average windspeed\"]\n",
    "gustspeed_column = estes_park_df[\"Average gustspeed\"]\n",
    "\n",
    "plt.scatter(windspeed_column,gustspeed_column, marker=\"*\")\n",
    "\n",
    "plt.xlabel(\"Average windspeed (in mph)\")\n",
    "plt.ylabel(\"Average gustspeed (in mph)\")\n",
    "\n",
    "# We can add a title too\n",
    "plt.title(\"gustspeed-vs-windspeed in January 2023\")"
   ]
  },
  {
   "cell_type": "markdown",
   "id": "cf4a93ef",
   "metadata": {},
   "source": [
    "Does this corroborate with our correlation analysis in 3.2?"
   ]
  },
  {
   "cell_type": "markdown",
   "id": "fb8b8dab",
   "metadata": {},
   "source": [
    "Now let's draw a scatter plot considering three variables where the third variable is represented by marker size. The variables are:\n",
    "\n",
    "- Average temperature\n",
    "- Average pressure (barometer)\n",
    "- Average humidity"
   ]
  },
  {
   "cell_type": "code",
   "execution_count": 13,
   "id": "e3e15000",
   "metadata": {
    "scrolled": true
   },
   "outputs": [
    {
     "data": {
      "text/plain": [
       "<matplotlib.collections.PathCollection at 0x2379770ba60>"
      ]
     },
     "execution_count": 13,
     "metadata": {},
     "output_type": "execute_result"
    },
    {
     "data": {
      "image/png": "[encoded data removed]",
      "text/plain": [
       "<Figure size 640x480 with 1 Axes>"
      ]
     },
     "metadata": {},
     "output_type": "display_data"
    }
   ],
   "source": [
    "temp_column = estes_park_df[\"Average temperature\"]\n",
    "pressure_column = estes_park_df[\"Average barometer\"]\n",
    "humidity_column = estes_park_df[\"Average humidity\"]\n",
    "\n",
    "plt.scatter(temp_column, pressure_column, marker=\"o\", s=humidity_column)"
   ]
  },
  {
   "cell_type": "markdown",
   "id": "204595e3",
   "metadata": {},
   "source": [
    "## 4.4. Box Plots\n",
    "- A Box Plot is also known as Whisker plot is created to display the summary of the set of data values for a variable \n",
    "- Properties like minimum, first quartile, median, third quartile and maximum. \n",
    "- Also plots outliers\n",
    "\n",
    "Let's plot Average temperature using boxplot."
   ]
  },
  {
   "cell_type": "code",
   "execution_count": 14,
   "id": "29bce620",
   "metadata": {
    "scrolled": true
   },
   "outputs": [
    {
     "data": {
      "text/plain": [
       "{'whiskers': [<matplotlib.lines.Line2D at 0x23797771c10>,\n",
       "  <matplotlib.lines.Line2D at 0x23797771ee0>],\n",
       " 'caps': [<matplotlib.lines.Line2D at 0x237977831f0>,\n",
       "  <matplotlib.lines.Line2D at 0x237977834c0>],\n",
       " 'boxes': [<matplotlib.lines.Line2D at 0x23797771940>],\n",
       " 'medians': [<matplotlib.lines.Line2D at 0x23797783790>],\n",
       " 'fliers': [<matplotlib.lines.Line2D at 0x23797783a60>],\n",
       " 'means': []}"
      ]
     },
     "execution_count": 14,
     "metadata": {},
     "output_type": "execute_result"
    },
    {
     "data": {
      "text/plain": [
       "Text(0.5, 0, 'Temperature')"
      ]
     },
     "execution_count": 14,
     "metadata": {},
     "output_type": "execute_result"
    },
    {
     "data": {
      "text/plain": [
       "Text(0, 0.5, \"Temp in 'F\")"
      ]
     },
     "execution_count": 14,
     "metadata": {},
     "output_type": "execute_result"
    },
    {
     "data": {
      "image/png": "[encoded data removed]",
      "text/plain": [
       "<Figure size 640x480 with 1 Axes>"
      ]
     },
     "metadata": {},
     "output_type": "display_data"
    }
   ],
   "source": [
    "temp_column = estes_park_df[\"Average temperature\"]\n",
    "\n",
    "plt.boxplot(temp_column)\n",
    "\n",
    "plt.xlabel(\"Temperature\")\n",
    "plt.ylabel(\"Temp in 'F\")"
   ]
  },
  {
   "cell_type": "markdown",
   "id": "33e8df68",
   "metadata": {},
   "source": [
    "## E2. Exercise: IMDB Movie Data\n",
    "\n",
    "- Download the IMDB Movie Data (extracted from Kaggle's IMDB Movie Dataset posting) from **Canvas->Files->Week6->IMDB_movie_metadata_small.csv**\n",
    "- Load the data to a Pandas dataframe using read_csv() method \n",
    "- Which columns are categorical and which ones are numerical? Write in a markdown block.\n",
    "- Describe columns \"gross\" (represents total revenue made by the movie) and \"imdb_score\" using describe(). Write your insights in a markdown block.\n",
    "- Analyze \"imdb_score\" and \"gross\" together by computing the Pearson's correlation coefficient. What does it tell you? Write down in a markdown block.\n",
    "- Plot \"gross\" vs \"director_name\" for the **first 10 rows**. Which form of plot are you going to use?\n",
    "- Plot \"imdb_score\"-vs-\"movie_facebook_likes\". Which form of plot are you going to use?\n",
    "- Boxplot \"gross\" and write down your insights from the box plot. \n",
    "\n"
   ]
  },
  {
   "cell_type": "markdown",
   "id": "845cd365",
   "metadata": {},
   "source": [
    "## [Optional] Pro-tip: Go through Seaborn tutorial \n",
    "\n",
    "Seaborn is a library mostly used for statistical plotting in Python. It is built on top of Matplotlib and provides beautiful default styles and color palettes to make statistical plots more attractive.\n",
    "\n",
    "Tutorial here:\n",
    "\n",
    "https://www.geeksforgeeks.org/python-seaborn-tutorial/"
   ]
  }
 ],
 "metadata": {
  "kernelspec": {
   "display_name": "Python 3 (ipykernel)",
   "language": "python",
   "name": "python3"
  },
  "language_info": {
   "codemirror_mode": {
    "name": "ipython",
    "version": 3
   },
   "file_extension": ".py",
   "mimetype": "text/x-python",
   "name": "python",
   "nbconvert_exporter": "python",
   "pygments_lexer": "ipython3",
   "version": "3.9.13"
  }
 },
 "nbformat": 4,
 "nbformat_minor": 5
}
